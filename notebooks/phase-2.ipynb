{
 "cells": [
  {
   "cell_type": "markdown",
   "id": "217f4772",
   "metadata": {},
   "source": [
    "## Numpy Array operations"
   ]
  },
  {
   "cell_type": "code",
   "execution_count": 1,
   "id": "33fbb9e7",
   "metadata": {},
   "outputs": [],
   "source": [
    "import numpy as np"
   ]
  },
  {
   "cell_type": "code",
   "execution_count": 4,
   "id": "6975a2c9",
   "metadata": {},
   "outputs": [
    {
     "name": "stdout",
     "output_type": "stream",
     "text": [
      "Slicing:  [3 4 5 6 7]\n",
      "Slicing with step:  [2 4 6 8]\n",
      "Negative indexing:  8\n"
     ]
    }
   ],
   "source": [
    "arr = np.array([1,2,3,4,5,6,7,8])\n",
    "print(\"Slicing: \", arr[2:7])\n",
    "print(\"Slicing with step: \", arr[1:8:2])\n",
    "print(\"Negative indexing: \", arr[-1])\n"
   ]
  },
  {
   "cell_type": "code",
   "execution_count": 8,
   "id": "940b315e",
   "metadata": {},
   "outputs": [
    {
     "name": "stdout",
     "output_type": "stream",
     "text": [
      "Specific element:  6\n",
      "Entire row:  [4 5 6]\n",
      "Entire col:  [2 5 8]\n"
     ]
    }
   ],
   "source": [
    "arr_2d = np.array([[1,2,3], [4,5,6], [7,8,9]]) \n",
    "print(\"Specific element: \", arr_2d[1,2]) #1 row 2nd element\n",
    "print(\"Entire row: \", arr_2d[1]) #entire row\n",
    "print(\"Entire col: \", arr_2d[:, 1])\n"
   ]
  },
  {
   "cell_type": "markdown",
   "id": "c03edc9b",
   "metadata": {},
   "source": [
    "### Sorting\n"
   ]
  },
  {
   "cell_type": "code",
   "execution_count": null,
   "id": "1ea1f123",
   "metadata": {},
   "outputs": [
    {
     "name": "stdout",
     "output_type": "stream",
     "text": [
      "[1 1 3 4 5 6 7]\n",
      "Sorted array by column:  [[1 2 0]\n",
      " [7 5 1]\n",
      " [8 8 6]]\n",
      "Sorted array by column:  [[0 1 2]\n",
      " [5 6 8]\n",
      " [1 7 8]]\n"
     ]
    }
   ],
   "source": [
    "unsorted_array = np.array([3,1,4,5,6,7,1])\n",
    "print(np.sort(unsorted_array))\n",
    "\n",
    "arr_2d = np.array([[1,2,0], [8,5,6], [7,8,1]]) \n",
    "print(\"Sorted array by column: \", np.sort(arr_2d, axis=0))\n",
    "print(\"Sorted array by row: \", np.sort(arr_2d, axis=1))"
   ]
  },
  {
   "cell_type": "markdown",
   "id": "83897d3c",
   "metadata": {},
   "source": [
    "### Filtering"
   ]
  },
  {
   "cell_type": "code",
   "execution_count": 13,
   "id": "582fc264",
   "metadata": {},
   "outputs": [
    {
     "name": "stdout",
     "output_type": "stream",
     "text": [
      "[2 4 6 8]\n",
      "Numbers greater than 5:  [6 7 8]\n"
     ]
    }
   ],
   "source": [
    "arr = np.array([1,2,3,4,5,6,7,8])\n",
    "even_nums = arr[arr % 2 == 0]\n",
    "print(even_nums)\n",
    "\n",
    "# Filtering with mask\n",
    "mask = arr > 5\n",
    "print(\"Numbers greater than 5: \", arr[mask])"
   ]
  }
 ],
 "metadata": {
  "kernelspec": {
   "display_name": "venv",
   "language": "python",
   "name": "python3"
  },
  "language_info": {
   "codemirror_mode": {
    "name": "ipython",
    "version": 3
   },
   "file_extension": ".py",
   "mimetype": "text/x-python",
   "name": "python",
   "nbconvert_exporter": "python",
   "pygments_lexer": "ipython3",
   "version": "3.12.4"
  }
 },
 "nbformat": 4,
 "nbformat_minor": 5
}
