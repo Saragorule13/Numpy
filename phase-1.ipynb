{
 "cells": [
  {
   "cell_type": "code",
   "execution_count": 2,
   "id": "db57a512",
   "metadata": {},
   "outputs": [],
   "source": [
    "## Numpy\n",
    "\n",
    "import numpy as np"
   ]
  },
  {
   "cell_type": "markdown",
   "id": "ca8b8b09",
   "metadata": {},
   "source": [
    "## Creating array from list"
   ]
  },
  {
   "cell_type": "code",
   "execution_count": null,
   "id": "67c4fa19",
   "metadata": {},
   "outputs": [],
   "source": [
    "import numpy as np\n",
    "\n",
    "arr_1d = np.array([1,2,3,4,5])\n",
    "print(\"1D array: \", arr_1d)\n",
    "\n",
    "arr_2d = np.array([[1,2,3], [2,3,4]])\n",
    "print(\"2D array: \", arr_2d)"
   ]
  },
  {
   "cell_type": "markdown",
   "id": "eb3dae68",
   "metadata": {},
   "source": [
    "### List vs numpy"
   ]
  },
  {
   "cell_type": "code",
   "execution_count": null,
   "id": "d10c05dd",
   "metadata": {},
   "outputs": [],
   "source": [
    "\n",
    "# py_list = [1,2,3]\n",
    "# print(py_list * 2)\n",
    "\n",
    "# np_array = np.array([1,2,3])\n",
    "# print(np_array * 2)\n",
    "\n",
    "import time\n",
    "\n",
    "start = time.time()\n",
    "py_list = [i*2 for i in range(100000)]\n",
    "print(\"\\n List operation time: \", time.time() - start)\n",
    "\n",
    "start = time.time()\n",
    "narray = np.arange(100000) * 2\n",
    "print(\"\\n array operation time: \", time.time() - start)"
   ]
  },
  {
   "cell_type": "markdown",
   "id": "50165cb1",
   "metadata": {},
   "source": [
    "### creating array from scratch"
   ]
  },
  {
   "cell_type": "code",
   "execution_count": null,
   "id": "e6b069d4",
   "metadata": {},
   "outputs": [],
   "source": [
    "zeros = np.zeros((3,4))\n",
    "print(zeros)\n",
    "\n",
    "ones = np.ones((3,4))\n",
    "print(ones)\n",
    "\n",
    "full = np.full((2,2), 7)\n",
    "print(full)\n",
    "\n",
    "random = np.random.random((2,3))\n",
    "print(random)\n",
    "\n",
    "seq = np.arange(0,10,2)\n",
    "print(seq)"
   ]
  },
  {
   "cell_type": "markdown",
   "id": "dc778c87",
   "metadata": {},
   "source": [
    "### Vector, Matrix and Tensor"
   ]
  },
  {
   "cell_type": "code",
   "execution_count": 13,
   "id": "d2101df8",
   "metadata": {},
   "outputs": [
    {
     "name": "stdout",
     "output_type": "stream",
     "text": [
      "3\n",
      "[[[1 2]\n",
      "  [3 4]]\n",
      "\n",
      " [[5 6]\n",
      "  [7 8]]]\n"
     ]
    }
   ],
   "source": [
    "vector = np.array([1,2,3,4])\n",
    "matrix = np.array([[1,2], [2,3]])\n",
    "tensor = np.array([[[1,2], [3,4]], [[5,6], [7,8]]]) \n",
    "print(tensor.ndim)\n",
    "print(tensor)"
   ]
  },
  {
   "cell_type": "markdown",
   "id": "8dd08e9c",
   "metadata": {},
   "source": [
    "### Array Properties"
   ]
  },
  {
   "cell_type": "code",
   "execution_count": 12,
   "id": "4804c875",
   "metadata": {},
   "outputs": [
    {
     "name": "stdout",
     "output_type": "stream",
     "text": [
      "Shape:  (3, 3)\n",
      "Dimension:  2\n",
      "Size:  9\n",
      "Data Type:  int64\n"
     ]
    }
   ],
   "source": [
    "arr = np.array([[1,2,3],\n",
    "                [4,5,6],\n",
    "                [9,8,0]])\n",
    "\n",
    "print(\"Shape: \", arr.shape)\n",
    "print(\"Dimension: \", arr.ndim)\n",
    "print(\"Size: \", arr.size) #number of elements\n",
    "print(\"Data Type: \", arr.dtype)"
   ]
  },
  {
   "cell_type": "markdown",
   "id": "053fcc92",
   "metadata": {},
   "source": [
    "### Array reshaping"
   ]
  },
  {
   "cell_type": "code",
   "execution_count": 19,
   "id": "ffcc4517",
   "metadata": {},
   "outputs": [
    {
     "name": "stdout",
     "output_type": "stream",
     "text": [
      "Original Array:  [ 0  1  2  3  4  5  6  7  8  9 10 11]\n",
      "[[ 0  1  2  3]\n",
      " [ 4  5  6  7]\n",
      " [ 8  9 10 11]]\n",
      "[ 0  1  2  3  4  5  6  7  8  9 10 11]\n",
      "[ 0  1  2  3  4  5  6  7  8  9 10 11]\n",
      "[[ 0  4  8]\n",
      " [ 1  5  9]\n",
      " [ 2  6 10]\n",
      " [ 3  7 11]]\n"
     ]
    }
   ],
   "source": [
    "arr = np.arange(12)\n",
    "print(\"Original Array: \", arr)\n",
    "\n",
    "reshaped = arr.reshape((3,4)) # 3,4 dimension\n",
    "print(reshaped)\n",
    "\n",
    "flattened = reshaped.flatten()\n",
    "print(flattened)\n",
    "\n",
    "# ravel (return view/original array, instead of copy)\n",
    "raveled = reshaped.ravel()\n",
    "print(raveled)\n",
    "\n",
    "#Transpose\n",
    "trans = reshaped.T\n",
    "print(trans)"
   ]
  },
  {
   "cell_type": "code",
   "execution_count": null,
   "id": "1945c235",
   "metadata": {},
   "outputs": [],
   "source": []
  }
 ],
 "metadata": {
  "kernelspec": {
   "display_name": "venv",
   "language": "python",
   "name": "python3"
  },
  "language_info": {
   "codemirror_mode": {
    "name": "ipython",
    "version": 3
   },
   "file_extension": ".py",
   "mimetype": "text/x-python",
   "name": "python",
   "nbconvert_exporter": "python",
   "pygments_lexer": "ipython3",
   "version": "3.12.4"
  }
 },
 "nbformat": 4,
 "nbformat_minor": 5
}
